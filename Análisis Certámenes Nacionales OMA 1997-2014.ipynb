{
 "metadata": {
  "name": "",
  "signature": "sha256:e765192d238ad1efaae8f28a79c6d660ae9b3798a9eb4b2957c60170527e1e51"
 },
 "nbformat": 3,
 "nbformat_minor": 0,
 "worksheets": [
  {
   "cells": [
    {
     "cell_type": "markdown",
     "metadata": {},
     "source": [
      "El presente estudio se basa en la informaci\u00f3n publicada en la web sobre clasificad@s, aprobad@s y premiad@s de los cert\u00e1menes nacionales de la Olimp\u00edada Matem\u00e1tica Argentina.\n",
      "\n",
      "Los datos publicados abarcan los a\u00f1os entre 1997 y 2014 y han sido descargados de la p\u00e1gina y convertidos a un formato m\u00e1s accesible (.csv).\n",
      "\n",
      "La intenci\u00f3n de este estudio es entender la evoluci\u00f3n de la distribuci\u00f3n geogr\u00e1fica, de g\u00e9nero y social entre l@s participantes de los nacionales OMA a lo largo de los \u00faltimos 18 a\u00f1os, para as\u00ed poder generar un debate informado sobre diferentes ideas que nos ayuden a tener una olimp\u00edada m\u00e1s federal, diversa e inclusiva, haciendo llegar los enormes beneficios de esta actividad a sectores cada vez m\u00e1s amplios de la sociedad.\n",
      "\n",
      "Esto es de vital importancia en el momento actual de necesidad estrat\u00e9gica de fomentar vocaciones en Matem\u00e1tica, Computaci\u00f3n y ciencias duras en general.\n",
      "\n",
      "En esta versi\u00f3n inicial del estudio nos limitamos a analizar la distribuci\u00f3n por provincia de clasificad@s y aprobad@s y a seguir la evoluci\u00f3n del \u00edndice de Gini como indicador del nivel de desigualdad geogr\u00e1fica.\n",
      "\n",
      "Este es un trabajo en desarrollo, somos conscientes de lo mucho que hay por mejorar y l@s invitamos a colaborar con sus ideas y sugerencias.\n",
      "\n",
      "\u00a1Muchas gracias por su inter\u00e9s!"
     ]
    },
    {
     "cell_type": "code",
     "collapsed": false,
     "input": [],
     "language": "python",
     "metadata": {},
     "outputs": [],
     "prompt_number": 0
    },
    {
     "cell_type": "code",
     "collapsed": false,
     "input": [
      "# -*- coding: utf-8 -*-\n",
      "\n",
      "import numpy as np\n",
      "import pandas as pd\n",
      "\n",
      "from bokeh.plotting import *\n",
      "from bokeh.models import HoverTool\n",
      "from bokeh.resources import CDN\n",
      "from bokeh.embed import components\n",
      "\n",
      "from collections import OrderedDict\n",
      "\n",
      "init_year  = 1998\n",
      "end_year   = 2014\n",
      "\n",
      "N = end_year - init_year + 1\n",
      "\n",
      "files = [\"../data/aprobados/gini_aprobados.csv\",\n",
      "\t\t \"../data/clasificados/gini_clasificados.csv\",]\n",
      "\t\t \n",
      "aprobados,clasificados = map(pd.read_csv,files)\n",
      "\n",
      "title_val = \"An\u00e1lisis de los resultados de la OMA en los a\u00f1os {0}-{1}\".format(init_year,end_year).decode('utf-8')\n",
      "output_file(\"gini.html\", title=title_val)\n",
      "\n",
      "\n",
      "TOOLS=\"pan,wheel_zoom,box_zoom,reset,hover\"\n",
      "\t\n",
      "\t\t\t\n",
      "p = figure(plot_width=800, plot_height=600, tools=TOOLS)\n",
      "\n",
      "\n",
      "p.circle(clasificados['A\u00f1o'], clasificados['Gini'], size = 10, fill_alpha=0.6, line_color=\"blue\") \n",
      "p.circle(aprobados['A\u00f1o'], aprobados['Gini'], size = 10, fill_alpha=0.6, line_color=\"red\") \n",
      "\n",
      "p.line(clasificados['A\u00f1o'],clasificados['Gini'], size=12, color=\"blue\", alpha=0.5,legend='Clasificados')\n",
      "p.line(aprobados['A\u00f1o'],aprobados['Gini'], size=12, color=\"red\", alpha=0.5,legend='Aprobados')\n",
      "p.title = \"Evoluci\u00f3n \u00edndice de Gini en aprobados y clasificados.\".decode('utf-8')\n",
      "p.xaxis.axis_label = 'A\u00f1os'.decode('utf-8')\n",
      "p.yaxis.axis_label = 'Gini'\n",
      "\n",
      "hover = p.select(dict(type=HoverTool))\n",
      "\n",
      "hover.tooltips = OrderedDict([\n",
      "    (\"A\u00f1o\", \"@x\"),\n",
      "    (\"Gini\", \"@y\"),\n",
      "])\n",
      "\n",
      "# script, div = components(p, CDN)\n",
      "\n",
      "show(p)"
     ],
     "language": "python",
     "metadata": {},
     "outputs": [
      {
       "ename": "ImportError",
       "evalue": "No module named 'bokeh.models'",
       "output_type": "pyerr",
       "traceback": [
        "\u001b[1;31m---------------------------------------------------------------------------\u001b[0m\n\u001b[1;31mImportError\u001b[0m                               Traceback (most recent call last)",
        "\u001b[1;32m<ipython-input-2-ea1b1cbdec28>\u001b[0m in \u001b[0;36m<module>\u001b[1;34m()\u001b[0m\n\u001b[0;32m      5\u001b[0m \u001b[1;33m\u001b[0m\u001b[0m\n\u001b[0;32m      6\u001b[0m \u001b[1;32mfrom\u001b[0m \u001b[0mbokeh\u001b[0m\u001b[1;33m.\u001b[0m\u001b[0mplotting\u001b[0m \u001b[1;32mimport\u001b[0m \u001b[1;33m*\u001b[0m\u001b[1;33m\u001b[0m\u001b[0m\n\u001b[1;32m----> 7\u001b[1;33m \u001b[1;32mfrom\u001b[0m \u001b[0mbokeh\u001b[0m\u001b[1;33m.\u001b[0m\u001b[0mmodels\u001b[0m \u001b[1;32mimport\u001b[0m \u001b[0mHoverTool\u001b[0m\u001b[1;33m\u001b[0m\u001b[0m\n\u001b[0m\u001b[0;32m      8\u001b[0m \u001b[1;32mfrom\u001b[0m \u001b[0mbokeh\u001b[0m\u001b[1;33m.\u001b[0m\u001b[0mresources\u001b[0m \u001b[1;32mimport\u001b[0m \u001b[0mCDN\u001b[0m\u001b[1;33m\u001b[0m\u001b[0m\n\u001b[0;32m      9\u001b[0m \u001b[1;32mfrom\u001b[0m \u001b[0mbokeh\u001b[0m\u001b[1;33m.\u001b[0m\u001b[0membed\u001b[0m \u001b[1;32mimport\u001b[0m \u001b[0mcomponents\u001b[0m\u001b[1;33m\u001b[0m\u001b[0m\n",
        "\u001b[1;31mImportError\u001b[0m: No module named 'bokeh.models'"
       ]
      }
     ],
     "prompt_number": 2
    },
    {
     "cell_type": "code",
     "collapsed": false,
     "input": [],
     "language": "python",
     "metadata": {},
     "outputs": []
    }
   ],
   "metadata": {}
  }
 ]
}